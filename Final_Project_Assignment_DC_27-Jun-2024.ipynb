{
 "cells": [
  {
   "cell_type": "markdown",
   "metadata": {},
   "source": [
    "1. Data Cleaning and Transformation:\n",
    "\n",
    "    • Identify and handle missing values.\n",
    "    \n",
    "    • Clean and preprocess the data to make it suitable for analysis."
   ]
  },
  {
   "cell_type": "markdown",
   "metadata": {},
   "source": [
    "– Data cleaning and transformation steps.\n",
    "\n",
    "    1- Connected dataset file\n",
    "    2- Checked the strength of columns with df.info() function\n",
    "    3- Calculated the percentage & missing values in each columns\n",
    "    4- Decided to remove column with missing values above 50%\n",
    "    5- Re-Calculated the percentage & missing values in each columns for validation\n"
   ]
  },
  {
   "cell_type": "code",
   "execution_count": 1,
   "metadata": {},
   "outputs": [
    {
     "name": "stdout",
     "output_type": "stream",
     "text": [
      "<class 'pandas.core.frame.DataFrame'>\n",
      "RangeIndex: 114635 entries, 0 to 114634\n",
      "Data columns (total 22 columns):\n",
      " #   Column                  Non-Null Count   Dtype  \n",
      "---  ------                  --------------   -----  \n",
      " 0   CDPHId                  114635 non-null  int64  \n",
      " 1   ProductName             114635 non-null  object \n",
      " 2   CSFId                   80662 non-null   float64\n",
      " 3   CSF                     80237 non-null   object \n",
      " 4   CompanyId               114635 non-null  int64  \n",
      " 5   CompanyName             114635 non-null  object \n",
      " 6   BrandName               114408 non-null  object \n",
      " 7   PrimaryCategoryId       114635 non-null  int64  \n",
      " 8   PrimaryCategory         114635 non-null  object \n",
      " 9   SubCategoryId           114635 non-null  int64  \n",
      " 10  SubCategory             114635 non-null  object \n",
      " 11  CasId                   114635 non-null  int64  \n",
      " 12  CasNumber               108159 non-null  object \n",
      " 13  ChemicalId              114635 non-null  int64  \n",
      " 14  ChemicalName            114635 non-null  object \n",
      " 15  InitialDateReported     114635 non-null  object \n",
      " 16  MostRecentDateReported  114635 non-null  object \n",
      " 17  DiscontinuedDate        12920 non-null   object \n",
      " 18  ChemicalCreatedAt       114635 non-null  object \n",
      " 19  ChemicalUpdatedAt       114635 non-null  object \n",
      " 20  ChemicalDateRemoved     2985 non-null    object \n",
      " 21  ChemicalCount           114635 non-null  int64  \n",
      "dtypes: float64(1), int64(7), object(14)\n",
      "memory usage: 19.2+ MB\n"
     ]
    }
   ],
   "source": [
    "import pandas as pd\n",
    "\n",
    "# df = pd.read_csv(\"cscpopendata.csv\")\n",
    "# Characters that are not encoded in UTF-8, Got error, Used encoding\n",
    "df = pd.read_csv(r\"cscpopendata.csv\", encoding='ISO-8859-1')\n",
    "\n",
    "df.info()"
   ]
  },
  {
   "cell_type": "code",
   "execution_count": 25,
   "metadata": {},
   "outputs": [
    {
     "name": "stdout",
     "output_type": "stream",
     "text": [
      "                     Missing Values  Percentage\n",
      "CSFId                         33973   29.635801\n",
      "CSF                           34398   30.006543\n",
      "BrandName                       227    0.198020\n",
      "CasNumber                      6476    5.649235\n",
      "DiscontinuedDate             101715   88.729446\n",
      "ChemicalDateRemoved          111650   97.396083\n"
     ]
    }
   ],
   "source": [
    "# Calculated the %age and missing values\n",
    "missing_values = df.isnull().sum()\n",
    "percent_missing = (missing_values / len(df)) * 100\n",
    "\n",
    "# Combine the count and percentage into a DataFrame for better readability\n",
    "missing_data = pd.DataFrame({'Missing Values': missing_values, 'Percentage': percent_missing})\n",
    "missing_data = missing_data[missing_data['Missing Values'] > 0]\n",
    "\n",
    "print(missing_data)\n"
   ]
  },
  {
   "cell_type": "code",
   "execution_count": 26,
   "metadata": {},
   "outputs": [
    {
     "name": "stdout",
     "output_type": "stream",
     "text": [
      "<class 'pandas.core.frame.DataFrame'>\n",
      "RangeIndex: 114635 entries, 0 to 114634\n",
      "Data columns (total 20 columns):\n",
      " #   Column                  Non-Null Count   Dtype  \n",
      "---  ------                  --------------   -----  \n",
      " 0   CDPHId                  114635 non-null  int64  \n",
      " 1   ProductName             114635 non-null  object \n",
      " 2   CSFId                   80662 non-null   float64\n",
      " 3   CSF                     80237 non-null   object \n",
      " 4   CompanyId               114635 non-null  int64  \n",
      " 5   CompanyName             114635 non-null  object \n",
      " 6   BrandName               114408 non-null  object \n",
      " 7   PrimaryCategoryId       114635 non-null  int64  \n",
      " 8   PrimaryCategory         114635 non-null  object \n",
      " 9   SubCategoryId           114635 non-null  int64  \n",
      " 10  SubCategory             114635 non-null  object \n",
      " 11  CasId                   114635 non-null  int64  \n",
      " 12  CasNumber               108159 non-null  object \n",
      " 13  ChemicalId              114635 non-null  int64  \n",
      " 14  ChemicalName            114635 non-null  object \n",
      " 15  InitialDateReported     114635 non-null  object \n",
      " 16  MostRecentDateReported  114635 non-null  object \n",
      " 17  ChemicalCreatedAt       114635 non-null  object \n",
      " 18  ChemicalUpdatedAt       114635 non-null  object \n",
      " 19  ChemicalCount           114635 non-null  int64  \n",
      "dtypes: float64(1), int64(7), object(12)\n",
      "memory usage: 17.5+ MB\n"
     ]
    }
   ],
   "source": [
    "# Above 50% is missing value removed\n",
    "threshold = len(df) * 0.5\n",
    "\n",
    "# threshold\n",
    "df = df.dropna(thresh=threshold, axis=1)\n",
    "\n",
    "df.info()\n"
   ]
  },
  {
   "cell_type": "code",
   "execution_count": 27,
   "metadata": {},
   "outputs": [
    {
     "name": "stdout",
     "output_type": "stream",
     "text": [
      "           Missing Values  Percentage\n",
      "CSFId               33973   29.635801\n",
      "CSF                 34398   30.006543\n",
      "BrandName             227    0.198020\n",
      "CasNumber            6476    5.649235\n"
     ]
    }
   ],
   "source": [
    "# Again Calculated the %age and missing values, Just to chech that I am on track\n",
    "missing_values = df.isnull().sum()\n",
    "percent_missing = (missing_values / len(df)) * 100\n",
    "\n",
    "# Combine the count and percentage into a DataFrame for better readability\n",
    "missing_data = pd.DataFrame({'Missing Values': missing_values, 'Percentage': percent_missing})\n",
    "missing_data = missing_data[missing_data['Missing Values'] > 0]\n",
    "\n",
    "print(missing_data)\n",
    "\n"
   ]
  },
  {
   "cell_type": "markdown",
   "metadata": {},
   "source": [
    "\n",
    "– Handling of missing values.\n",
    "\n",
    "    1- For float & int, I have looped to fill in data with mean | CSFID\n",
    "    2- For object, I have looped to fill in data with mode (Values occurs most frequently) in  | CSF, BrandName & CasNumber (No matter what data types)"
   ]
  },
  {
   "cell_type": "code",
   "execution_count": 28,
   "metadata": {},
   "outputs": [
    {
     "name": "stdout",
     "output_type": "stream",
     "text": [
      "<class 'pandas.core.frame.DataFrame'>\n",
      "RangeIndex: 114635 entries, 0 to 114634\n",
      "Data columns (total 20 columns):\n",
      " #   Column                  Non-Null Count   Dtype  \n",
      "---  ------                  --------------   -----  \n",
      " 0   CDPHId                  114635 non-null  int64  \n",
      " 1   ProductName             114635 non-null  object \n",
      " 2   CSFId                   114635 non-null  float64\n",
      " 3   CSF                     114635 non-null  object \n",
      " 4   CompanyId               114635 non-null  int64  \n",
      " 5   CompanyName             114635 non-null  object \n",
      " 6   BrandName               114635 non-null  object \n",
      " 7   PrimaryCategoryId       114635 non-null  int64  \n",
      " 8   PrimaryCategory         114635 non-null  object \n",
      " 9   SubCategoryId           114635 non-null  int64  \n",
      " 10  SubCategory             114635 non-null  object \n",
      " 11  CasId                   114635 non-null  int64  \n",
      " 12  CasNumber               114635 non-null  object \n",
      " 13  ChemicalId              114635 non-null  int64  \n",
      " 14  ChemicalName            114635 non-null  object \n",
      " 15  InitialDateReported     114635 non-null  object \n",
      " 16  MostRecentDateReported  114635 non-null  object \n",
      " 17  ChemicalCreatedAt       114635 non-null  object \n",
      " 18  ChemicalUpdatedAt       114635 non-null  object \n",
      " 19  ChemicalCount           114635 non-null  int64  \n",
      "dtypes: float64(1), int64(7), object(12)\n",
      "memory usage: 17.5+ MB\n"
     ]
    }
   ],
   "source": [
    "# For numerical columns, fill with the median\n",
    "for col in df.select_dtypes(include=['float64', 'int64']):\n",
    "    df[col] = df[col].fillna(df[col].median())\n",
    "\n",
    "# For categorical columns, fill with the mode\n",
    "for col in df.select_dtypes(include=['object']):\n",
    "    df[col] = df[col].fillna(df[col].mode()[0])\n",
    "\n",
    "\n",
    "df.info()\n",
    "\n",
    "# Saving the DataFrame to a CSV file\n",
    "df.to_csv('cleaned_cscpopendata.csv', index=False)"
   ]
  },
  {
   "cell_type": "markdown",
   "metadata": {},
   "source": [
    "\n",
    "\n",
    "\n",
    "\n",
    "    Confirm in next file, if the data is OK!\n"
   ]
  }
 ],
 "metadata": {
  "kernelspec": {
   "display_name": "Python 3",
   "language": "python",
   "name": "python3"
  },
  "language_info": {
   "codemirror_mode": {
    "name": "ipython",
    "version": 3
   },
   "file_extension": ".py",
   "mimetype": "text/x-python",
   "name": "python",
   "nbconvert_exporter": "python",
   "pygments_lexer": "ipython3",
   "version": "3.12.4"
  }
 },
 "nbformat": 4,
 "nbformat_minor": 2
}
